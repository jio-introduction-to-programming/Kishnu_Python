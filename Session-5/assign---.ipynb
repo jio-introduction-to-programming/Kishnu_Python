{
 "cells": [
  {
   "cell_type": "code",
   "execution_count": 17,
   "metadata": {},
   "outputs": [
    {
     "name": "stdout",
     "output_type": "stream",
     "text": [
      "your list is-- [1, 2, 3, 4, 5, 6]\n",
      "21\n"
     ]
    }
   ],
   "source": [
    "\n",
    "lst=[]\n",
    "def sum_lst (lst1 ):\n",
    "    return sum(lst1)\n",
    "\n",
    "n=int(input(\"enter the length of list\"))\n",
    "for i in range(n):\n",
    "    a=int(input('enter a list of numbers'))\n",
    "    lst.append(a)\n",
    "print(\"your list is--\", lst)\n",
    "\n",
    "s=sum_lst(lst)\n",
    "print(s)\n"
   ]
  },
  {
   "cell_type": "code",
   "execution_count": 8,
   "metadata": {},
   "outputs": [
    {
     "name": "stdout",
     "output_type": "stream",
     "text": [
      "your list is-- [1323, 151, 484, 61654, 616216, 49979549]\n",
      "Maximum number is-- 49979549\n"
     ]
    }
   ],
   "source": [
    "lst=[]\n",
    "n=int(input(\"enter the length of the list\"))\n",
    "for i in range(n):\n",
    "    a=int(input('enter a list of numbers'))\n",
    "    lst.append(a)\n",
    "print(\"your list is--\", lst)\n",
    "def max_lst (lst1 ):\n",
    "        print(\"Maximum number is--\" , max(lst1))\n",
    "max_lst(lst)"
   ]
  },
  {
   "cell_type": "code",
   "execution_count": 14,
   "metadata": {},
   "outputs": [
    {
     "name": "stdout",
     "output_type": "stream",
     "text": [
      "your list is-- ['a', 'b', 'c']\n",
      "reverse list is-- ['c', 'b', 'a']\n"
     ]
    }
   ],
   "source": [
    "lst=[]\n",
    "lst2=[]\n",
    "n=int(input(\"enter the length of the list\"))\n",
    "for i in range(n):\n",
    "    a=(input('enter the elements of the list'))\n",
    "    lst.append(a)\n",
    "print(\"your list is--\", lst)\n",
    "def reverse_lst (lst1 ):\n",
    "    for i in range(-1,-n-1,-1):\n",
    "        lst2.append(lst1[i])\n",
    "    print(\"reverse list is--\" , lst2)\n",
    "reverse_lst(lst)"
   ]
  },
  {
   "cell_type": "code",
   "execution_count": 7,
   "metadata": {},
   "outputs": [
    {
     "name": "stdout",
     "output_type": "stream",
     "text": [
      "your list is-- [32, 65, 15, 32]\n",
      "Sorted list is-- [15, 32, 32, 65]\n"
     ]
    }
   ],
   "source": [
    "lst=[]\n",
    "lst1=[]\n",
    "n=int(input(\"enter the length of the list\"))\n",
    "for i in range(n):\n",
    "    a=int((input('enter a list of numbers')))\n",
    "    lst.append(a)\n",
    "print(\"your list is--\", lst)\n",
    "def sort_ed (lst1):\n",
    "        for i in range(n-1):\n",
    "            for j in range(n-1):\n",
    "                    if lst1[j]>lst1[j+1]:\n",
    "                        t=lst1[j+1]\n",
    "                        lst1[j+1]=lst1[j]\n",
    "                        lst1[j]=t\n",
    "        print(\"Sorted list is--\",lst1)\n",
    "\n",
    "sort_ed (lst)"
   ]
  },
  {
   "cell_type": "code",
   "execution_count": 15,
   "metadata": {},
   "outputs": [
    {
     "name": "stdout",
     "output_type": "stream",
     "text": [
      "your list is-- [7, 8, 9, 4, 4, 4, 4, 4, 4]\n",
      "Mean =  5.333333333333333\n",
      "Mode is-- 4 and freq is-- 6\n"
     ]
    }
   ],
   "source": [
    "lst=[]\n",
    "lst1=[]\n",
    "n=int(input(\"enter the length of the list\"))\n",
    "for i in range(n):\n",
    "    a=int((input('enter a list of numbers')))\n",
    "    lst.append(a)\n",
    "print(\"your list is--\", lst)\n",
    "def m_m(lst1) :\n",
    "    k=0\n",
    "    for i in range(n):\n",
    "        k+=lst1[i]\n",
    "    for j in range(n):\n",
    "        pp=lst[j]\n",
    "        freq=0\n",
    "        counter=0\n",
    "        for m in range(n):\n",
    "            if pp==lst1[m]:\n",
    "                counter +=1\n",
    "        if counter>freq:\n",
    "            freq=counter\n",
    "            num=lst[j]\n",
    "    print('Mean = ', k/n)\n",
    "    print(\"Mode is--\", num, \"and freq is--\", freq)\n",
    "m_m(lst)\n",
    "        \n"
   ]
  },
  {
   "cell_type": "code",
   "execution_count": 22,
   "metadata": {},
   "outputs": [],
   "source": [
    "def k_sum():\n",
    "    \n",
    "    num_seq = input('Enter a sequence of numbers separated by a space: ').split()\n",
    "    num_seq = [int(x) for x in num_seq]\n",
    "    k = int(input('Enter an integer k which can be used to return k sized list: '))\n",
    "    dictionary = {}\n",
    "    for i in range(k):\n",
    "        start, end = input('Enter start and end numbers separated by space: ').split()\n",
    "        start, end = int(start), int(end)\n",
    "        if end <= len(num_seq) and start <= (len(num_seq) - 1):\n",
    "            dictionary[i] = [int(start) - 1, int(end) - 1]\n",
    "        else:\n",
    "            print('You have entered start or end larger than length of list')\n",
    "            break\n",
    "        \n",
    "    list_k_sum = []\n",
    "    if k < len(num_seq):\n",
    "        for x in dictionary:\n",
    "            sum_1 = sum(num_seq[dictionary[x][0]:dictionary[x][1]+1])\n",
    "            list_k_sum.append(sum_1)\n",
    "    else:\n",
    "        print('You have entered value of k larger than total numbers in sequence: ')\n",
    "\n",
    "    if len(list_k_sum) == k:\n",
    "        return list_k_sum"
   ]
  },
  {
   "cell_type": "code",
   "execution_count": null,
   "metadata": {},
   "outputs": [],
   "source": []
  }
 ],
 "metadata": {
  "kernelspec": {
   "display_name": "Python 3",
   "language": "python",
   "name": "python3"
  },
  "language_info": {
   "codemirror_mode": {
    "name": "ipython",
    "version": 3
   },
   "file_extension": ".py",
   "mimetype": "text/x-python",
   "name": "python",
   "nbconvert_exporter": "python",
   "pygments_lexer": "ipython3",
   "version": "3.11.4"
  },
  "orig_nbformat": 4
 },
 "nbformat": 4,
 "nbformat_minor": 2
}
